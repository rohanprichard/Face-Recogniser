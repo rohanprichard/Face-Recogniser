{
 "cells": [
  {
   "cell_type": "code",
   "execution_count": 1,
   "metadata": {},
   "outputs": [],
   "source": [
    "import tensorflow as tf\n",
    "import scipy\n",
    "import matplotlib.pyplot as plt\n",
    "import numpy as np\n",
    "import cv2\n",
    "import os\n",
    "from tensorflow import keras\n",
    "from keras.preprocessing import image\n",
    "from keras.preprocessing.image import ImageDataGenerator\n",
    "from keras.optimizers import RMSprop\n"
   ]
  },
  {
   "cell_type": "code",
   "execution_count": 2,
   "metadata": {},
   "outputs": [],
   "source": [
    "train = ImageDataGenerator(rescale=1/255)\n",
    "val = ImageDataGenerator(rescale=1/255)"
   ]
  },
  {
   "cell_type": "code",
   "execution_count": 3,
   "metadata": {},
   "outputs": [
    {
     "name": "stdout",
     "output_type": "stream",
     "text": [
      "Found 2000 images belonging to 2 classes.\n",
      "Found 400 images belonging to 2 classes.\n"
     ]
    },
    {
     "name": "stderr",
     "output_type": "stream",
     "text": [
      "[ WARN:0@3.102] global /Users/xperience/actions-runner/_work/opencv-python/opencv-python/opencv/modules/imgcodecs/src/loadsave.cpp (239) findDecoder imread_('/Users/rohanrichard/Desktop/Code/Computer-Vision/Face-Recogniser/Face-Recogniser/train/ThumbsDown/img100.png'): can't open/read file: check file path/integrity\n"
     ]
    },
    {
     "ename": "AttributeError",
     "evalue": "'NoneType' object has no attribute 'shape'",
     "output_type": "error",
     "traceback": [
      "\u001b[0;31m---------------------------------------------------------------------------\u001b[0m",
      "\u001b[0;31mAttributeError\u001b[0m                            Traceback (most recent call last)",
      "\u001b[1;32m/Users/rohanrichard/Desktop/Code/Computer-Vision/Face-Recogniser/Face-Recogniser/model.ipynb Cell 3\u001b[0m in \u001b[0;36m<cell line: 3>\u001b[0;34m()\u001b[0m\n\u001b[1;32m      <a href='vscode-notebook-cell:/Users/rohanrichard/Desktop/Code/Computer-Vision/Face-Recogniser/Face-Recogniser/model.ipynb#W2sZmlsZQ%3D%3D?line=0'>1</a>\u001b[0m train_data \u001b[39m=\u001b[39m train\u001b[39m.\u001b[39mflow_from_directory(\u001b[39m'\u001b[39m\u001b[39m/Users/rohanrichard/Desktop/Code/Computer-Vision/Face-Recogniser/Face-Recogniser/train\u001b[39m\u001b[39m'\u001b[39m, batch_size\u001b[39m=\u001b[39m\u001b[39m32\u001b[39m,class_mode\u001b[39m=\u001b[39m\u001b[39m'\u001b[39m\u001b[39mbinary\u001b[39m\u001b[39m'\u001b[39m, target_size\u001b[39m=\u001b[39m(\u001b[39m200\u001b[39m,\u001b[39m200\u001b[39m))\n\u001b[1;32m      <a href='vscode-notebook-cell:/Users/rohanrichard/Desktop/Code/Computer-Vision/Face-Recogniser/Face-Recogniser/model.ipynb#W2sZmlsZQ%3D%3D?line=1'>2</a>\u001b[0m val_data \u001b[39m=\u001b[39m val\u001b[39m.\u001b[39mflow_from_directory(\u001b[39m'\u001b[39m\u001b[39m/Users/rohanrichard/Desktop/Code/Computer-Vision/Face-Recogniser/Face-Recogniser/val\u001b[39m\u001b[39m'\u001b[39m,batch_size\u001b[39m=\u001b[39m\u001b[39m10\u001b[39m,class_mode\u001b[39m=\u001b[39m\u001b[39m'\u001b[39m\u001b[39mbinary\u001b[39m\u001b[39m'\u001b[39m, target_size\u001b[39m=\u001b[39m(\u001b[39m200\u001b[39m,\u001b[39m200\u001b[39m) )\n\u001b[0;32m----> <a href='vscode-notebook-cell:/Users/rohanrichard/Desktop/Code/Computer-Vision/Face-Recogniser/Face-Recogniser/model.ipynb#W2sZmlsZQ%3D%3D?line=2'>3</a>\u001b[0m \u001b[39mprint\u001b[39m(cv2\u001b[39m.\u001b[39;49mimread(\u001b[39m'\u001b[39;49m\u001b[39m/Users/rohanrichard/Desktop/Code/Computer-Vision/Face-Recogniser/Face-Recogniser/train/ThumbsDown/img100.png\u001b[39;49m\u001b[39m'\u001b[39;49m)\u001b[39m.\u001b[39;49mshape)\n",
      "\u001b[0;31mAttributeError\u001b[0m: 'NoneType' object has no attribute 'shape'"
     ]
    }
   ],
   "source": [
    "train_data = train.flow_from_directory('/Users/rohanrichard/Desktop/Code/Computer-Vision/Face-Recogniser/Face-Recogniser/train', batch_size=32,class_mode='binary', target_size=(200,200))\n",
    "val_data = val.flow_from_directory('/Users/rohanrichard/Desktop/Code/Computer-Vision/Face-Recogniser/Face-Recogniser/val',batch_size=10,class_mode='binary', target_size=(200,200) )\n",
    "print(cv2.imread('/Users/rohanrichard/Desktop/Code/Computer-Vision/Face-Recogniser/Face-Recogniser/train/ThumbsDown/img100.png').shape)"
   ]
  },
  {
   "cell_type": "code",
   "execution_count": 4,
   "metadata": {},
   "outputs": [
    {
     "data": {
      "text/plain": [
       "{'ThumbsDown': 0, 'ThumbsUp': 1}"
      ]
     },
     "execution_count": 4,
     "metadata": {},
     "output_type": "execute_result"
    }
   ],
   "source": [
    "train_data.class_indices"
   ]
  },
  {
   "cell_type": "code",
   "execution_count": 5,
   "metadata": {},
   "outputs": [
    {
     "data": {
      "text/plain": [
       "(200, 200, 3)"
      ]
     },
     "execution_count": 5,
     "metadata": {},
     "output_type": "execute_result"
    }
   ],
   "source": [
    "train_data.image_shape"
   ]
  },
  {
   "cell_type": "code",
   "execution_count": 6,
   "metadata": {},
   "outputs": [
    {
     "name": "stdout",
     "output_type": "stream",
     "text": [
      "Metal device set to: Apple M1 Pro\n",
      "\n",
      "systemMemory: 16.00 GB\n",
      "maxCacheSize: 5.33 GB\n",
      "\n"
     ]
    },
    {
     "name": "stderr",
     "output_type": "stream",
     "text": [
      "2022-10-12 11:24:35.507492: I tensorflow/core/common_runtime/pluggable_device/pluggable_device_factory.cc:305] Could not identify NUMA node of platform GPU ID 0, defaulting to 0. Your kernel may not have been built with NUMA support.\n",
      "2022-10-12 11:24:35.507602: I tensorflow/core/common_runtime/pluggable_device/pluggable_device_factory.cc:271] Created TensorFlow device (/job:localhost/replica:0/task:0/device:GPU:0 with 0 MB memory) -> physical PluggableDevice (device: 0, name: METAL, pci bus id: <undefined>)\n"
     ]
    }
   ],
   "source": [
    "\n",
    "model = keras.models.Sequential([\n",
    "    keras.layers.Conv2D(16,(3,3),activation='relu',input_shape=(200,200,3)),\n",
    "    keras.layers.MaxPool2D(2,2),\n",
    "    keras.layers.Conv2D(32,(3,3),activation='relu'),\n",
    "    keras.layers.MaxPool2D(2,2),\n",
    "    keras.layers.Conv2D(64,(3,3),activation='relu'),\n",
    "    keras.layers.MaxPool2D(2,2),\n",
    "    keras.layers.Flatten(),\n",
    "    keras.layers.Dense(512,activation='relu'),\n",
    "    keras.layers.Dense(1,activation='sigmoid')\n",
    "\n",
    "])\n",
    "model.compile(loss='binary_crossentropy', optimizer = RMSprop(learning_rate=0.001), metrics=['accuracy'])"
   ]
  },
  {
   "cell_type": "code",
   "execution_count": 7,
   "metadata": {},
   "outputs": [
    {
     "name": "stdout",
     "output_type": "stream",
     "text": [
      "Epoch 1/10\n"
     ]
    },
    {
     "name": "stderr",
     "output_type": "stream",
     "text": [
      "2022-10-12 11:24:39.021024: W tensorflow/core/platform/profile_utils/cpu_utils.cc:128] Failed to get CPU frequency: 0 Hz\n",
      "2022-10-12 11:24:39.352963: I tensorflow/core/grappler/optimizers/custom_graph_optimizer_registry.cc:113] Plugin optimizer for device_type GPU is enabled.\n"
     ]
    },
    {
     "name": "stdout",
     "output_type": "stream",
     "text": [
      "10/10 [==============================] - ETA: 0s - loss: 3.6647 - accuracy: 0.5344"
     ]
    },
    {
     "name": "stderr",
     "output_type": "stream",
     "text": [
      "2022-10-12 11:24:40.293856: I tensorflow/core/grappler/optimizers/custom_graph_optimizer_registry.cc:113] Plugin optimizer for device_type GPU is enabled.\n"
     ]
    },
    {
     "name": "stdout",
     "output_type": "stream",
     "text": [
      "10/10 [==============================] - 2s 122ms/step - loss: 3.6647 - accuracy: 0.5344 - val_loss: 8.1784 - val_accuracy: 0.5000\n",
      "Epoch 2/10\n",
      "10/10 [==============================] - 1s 93ms/step - loss: 1.2654 - accuracy: 0.6438 - val_loss: 0.3622 - val_accuracy: 0.8375\n",
      "Epoch 3/10\n",
      "10/10 [==============================] - 1s 94ms/step - loss: 0.1204 - accuracy: 0.9719 - val_loss: 0.0245 - val_accuracy: 1.0000\n",
      "Epoch 4/10\n",
      "10/10 [==============================] - 1s 101ms/step - loss: 0.0322 - accuracy: 0.9934 - val_loss: 0.0129 - val_accuracy: 1.0000\n",
      "Epoch 5/10\n",
      "10/10 [==============================] - 1s 100ms/step - loss: 0.0034 - accuracy: 1.0000 - val_loss: 0.1132 - val_accuracy: 0.9425\n",
      "Epoch 6/10\n",
      "10/10 [==============================] - 1s 98ms/step - loss: 0.9813 - accuracy: 0.8816 - val_loss: 0.4844 - val_accuracy: 0.6300\n",
      "Epoch 7/10\n",
      "10/10 [==============================] - 1s 93ms/step - loss: 0.0955 - accuracy: 0.9563 - val_loss: 0.0120 - val_accuracy: 1.0000\n",
      "Epoch 8/10\n",
      "10/10 [==============================] - 1s 94ms/step - loss: 0.0209 - accuracy: 0.9938 - val_loss: 0.0207 - val_accuracy: 1.0000\n",
      "Epoch 9/10\n",
      "10/10 [==============================] - 1s 93ms/step - loss: 0.0079 - accuracy: 0.9969 - val_loss: 0.1593 - val_accuracy: 0.9325\n",
      "Epoch 10/10\n",
      "10/10 [==============================] - 1s 97ms/step - loss: 0.0066 - accuracy: 1.0000 - val_loss: 0.0027 - val_accuracy: 1.0000\n"
     ]
    },
    {
     "data": {
      "text/plain": [
       "<keras.callbacks.History at 0x2a9a97760>"
      ]
     },
     "execution_count": 7,
     "metadata": {},
     "output_type": "execute_result"
    }
   ],
   "source": [
    "model.fit(train_data,steps_per_epoch=10, epochs=10,validation_data=val_data)"
   ]
  },
  {
   "cell_type": "code",
   "execution_count": 8,
   "metadata": {},
   "outputs": [
    {
     "name": "stdout",
     "output_type": "stream",
     "text": [
      "1/1 [==============================] - 0s 82ms/step\n"
     ]
    },
    {
     "name": "stderr",
     "output_type": "stream",
     "text": [
      "2022-10-12 11:24:54.083965: I tensorflow/core/grappler/optimizers/custom_graph_optimizer_registry.cc:113] Plugin optimizer for device_type GPU is enabled.\n"
     ]
    },
    {
     "name": "stdout",
     "output_type": "stream",
     "text": [
      "THis is [[0.00086324]]\n",
      "1/1 [==============================] - 0s 12ms/step\n",
      "THis is [[1.]]\n",
      "1/1 [==============================] - 0s 11ms/step\n",
      "THis is [[1.]]\n",
      "1/1 [==============================] - 0s 10ms/step\n",
      "THis is [[1.]]\n",
      "1/1 [==============================] - 0s 10ms/step\n",
      "THis is [[1.]]\n",
      "1/1 [==============================] - 0s 11ms/step\n",
      "THis is [[1.]]\n",
      "1/1 [==============================] - 0s 10ms/step\n",
      "THis is [[1.]]\n",
      "1/1 [==============================] - 0s 11ms/step\n",
      "THis is [[1.]]\n",
      "1/1 [==============================] - 0s 11ms/step\n",
      "THis is [[1.]]\n",
      "1/1 [==============================] - 0s 11ms/step\n",
      "THis is [[1.]]\n",
      "1/1 [==============================] - 0s 11ms/step\n",
      "THis is [[1.]]\n",
      "1/1 [==============================] - 0s 11ms/step\n",
      "THis is [[1.]]\n",
      "1/1 [==============================] - 0s 11ms/step\n",
      "THis is [[1.]]\n",
      "1/1 [==============================] - 0s 11ms/step\n",
      "THis is [[1.]]\n",
      "1/1 [==============================] - 0s 11ms/step\n",
      "THis is [[1.]]\n",
      "1/1 [==============================] - 0s 11ms/step\n",
      "THis is [[1.]]\n",
      "1/1 [==============================] - 0s 10ms/step\n",
      "THis is [[1.]]\n",
      "1/1 [==============================] - 0s 11ms/step\n",
      "THis is [[1.]]\n",
      "1/1 [==============================] - 0s 11ms/step\n",
      "THis is [[1.]]\n",
      "1/1 [==============================] - 0s 11ms/step\n",
      "THis is [[1.]]\n",
      "1/1 [==============================] - 0s 11ms/step\n",
      "THis is [[1.]]\n",
      "1/1 [==============================] - 0s 10ms/step\n",
      "THis is [[1.]]\n",
      "1/1 [==============================] - 0s 11ms/step\n",
      "THis is [[1.]]\n",
      "1/1 [==============================] - 0s 10ms/step\n",
      "THis is [[1.]]\n",
      "1/1 [==============================] - 0s 11ms/step\n",
      "THis is [[1.]]\n",
      "1/1 [==============================] - 0s 11ms/step\n",
      "THis is [[1.]]\n",
      "1/1 [==============================] - 0s 10ms/step\n",
      "THis is [[1.]]\n",
      "1/1 [==============================] - 0s 11ms/step\n",
      "THis is [[1.]]\n",
      "1/1 [==============================] - 0s 10ms/step\n",
      "THis is [[1.]]\n",
      "1/1 [==============================] - 0s 11ms/step\n",
      "THis is [[1.]]\n",
      "1/1 [==============================] - 0s 11ms/step\n",
      "THis is [[1.]]\n",
      "1/1 [==============================] - 0s 11ms/step\n",
      "THis is [[1.]]\n",
      "1/1 [==============================] - 0s 11ms/step\n",
      "THis is [[1.]]\n",
      "1/1 [==============================] - 0s 11ms/step\n",
      "THis is [[1.]]\n",
      "1/1 [==============================] - 0s 11ms/step\n",
      "THis is [[1.]]\n",
      "1/1 [==============================] - 0s 12ms/step\n",
      "THis is [[1.]]\n",
      "1/1 [==============================] - 0s 11ms/step\n",
      "THis is [[1.]]\n",
      "1/1 [==============================] - 0s 11ms/step\n",
      "THis is [[1.]]\n",
      "1/1 [==============================] - 0s 11ms/step\n",
      "THis is [[1.]]\n",
      "1/1 [==============================] - 0s 11ms/step\n",
      "THis is [[1.]]\n",
      "1/1 [==============================] - 0s 11ms/step\n",
      "THis is [[1.]]\n",
      "1/1 [==============================] - 0s 10ms/step\n",
      "THis is [[1.]]\n",
      "1/1 [==============================] - 0s 11ms/step\n",
      "THis is [[1.]]\n",
      "1/1 [==============================] - 0s 11ms/step\n",
      "THis is [[1.]]\n",
      "1/1 [==============================] - 0s 10ms/step\n",
      "THis is [[1.]]\n",
      "1/1 [==============================] - 0s 11ms/step\n",
      "THis is [[1.]]\n",
      "1/1 [==============================] - 0s 10ms/step\n",
      "THis is [[1.]]\n",
      "1/1 [==============================] - 0s 11ms/step\n",
      "THis is [[1.]]\n",
      "1/1 [==============================] - 0s 11ms/step\n",
      "THis is [[1.]]\n",
      "1/1 [==============================] - 0s 11ms/step\n",
      "THis is [[1.]]\n",
      "1/1 [==============================] - 0s 11ms/step\n",
      "THis is [[1.]]\n",
      "1/1 [==============================] - 0s 11ms/step\n",
      "THis is [[1.]]\n",
      "1/1 [==============================] - 0s 11ms/step\n",
      "THis is [[1.]]\n",
      "1/1 [==============================] - 0s 11ms/step\n",
      "THis is [[1.]]\n",
      "1/1 [==============================] - 0s 11ms/step\n",
      "THis is [[1.]]\n",
      "1/1 [==============================] - 0s 11ms/step\n",
      "THis is [[1.]]\n",
      "1/1 [==============================] - 0s 11ms/step\n",
      "THis is [[1.]]\n",
      "1/1 [==============================] - 0s 11ms/step\n",
      "THis is [[0.]]\n",
      "1/1 [==============================] - 0s 11ms/step\n",
      "THis is [[0.]]\n",
      "1/1 [==============================] - 0s 11ms/step\n",
      "THis is [[0.]]\n",
      "1/1 [==============================] - 0s 11ms/step\n",
      "THis is [[0.]]\n",
      "1/1 [==============================] - 0s 11ms/step\n",
      "THis is [[0.]]\n",
      "1/1 [==============================] - 0s 11ms/step\n",
      "THis is [[0.]]\n",
      "1/1 [==============================] - 0s 11ms/step\n",
      "THis is [[0.]]\n",
      "1/1 [==============================] - 0s 11ms/step\n",
      "THis is [[0.]]\n",
      "1/1 [==============================] - 0s 11ms/step\n",
      "THis is [[0.]]\n",
      "1/1 [==============================] - 0s 11ms/step\n",
      "THis is [[0.]]\n",
      "1/1 [==============================] - 0s 11ms/step\n",
      "THis is [[0.9999945]]\n",
      "1/1 [==============================] - 0s 11ms/step\n",
      "THis is [[1.]]\n",
      "1/1 [==============================] - 0s 11ms/step\n",
      "THis is [[1.]]\n",
      "1/1 [==============================] - 0s 10ms/step\n",
      "THis is [[1.]]\n",
      "1/1 [==============================] - 0s 11ms/step\n",
      "THis is [[1.]]\n",
      "1/1 [==============================] - 0s 11ms/step\n",
      "THis is [[1.]]\n",
      "1/1 [==============================] - 0s 11ms/step\n",
      "THis is [[0.]]\n",
      "1/1 [==============================] - 0s 11ms/step\n",
      "THis is [[0.]]\n",
      "1/1 [==============================] - 0s 11ms/step\n",
      "THis is [[0.]]\n",
      "1/1 [==============================] - 0s 11ms/step\n",
      "THis is [[0.]]\n",
      "1/1 [==============================] - 0s 11ms/step\n",
      "THis is [[0.]]\n",
      "1/1 [==============================] - 0s 11ms/step\n",
      "THis is [[0.]]\n",
      "1/1 [==============================] - 0s 10ms/step\n",
      "THis is [[0.]]\n",
      "1/1 [==============================] - 0s 11ms/step\n",
      "THis is [[1.1797795e-19]]\n",
      "1/1 [==============================] - 0s 11ms/step\n",
      "THis is [[3.4924887e-13]]\n",
      "1/1 [==============================] - 0s 10ms/step\n",
      "THis is [[1.]]\n",
      "1/1 [==============================] - 0s 11ms/step\n",
      "THis is [[1.9497204e-11]]\n",
      "1/1 [==============================] - 0s 11ms/step\n",
      "THis is [[1.]]\n",
      "1/1 [==============================] - 0s 11ms/step\n",
      "THis is [[1.]]\n",
      "1/1 [==============================] - 0s 10ms/step\n",
      "THis is [[1.]]\n",
      "1/1 [==============================] - 0s 10ms/step\n",
      "THis is [[0.]]\n",
      "1/1 [==============================] - 0s 11ms/step\n",
      "THis is [[0.]]\n",
      "1/1 [==============================] - 0s 11ms/step\n",
      "THis is [[1.4864584e-08]]\n",
      "1/1 [==============================] - 0s 11ms/step\n",
      "THis is [[1.]]\n",
      "1/1 [==============================] - 0s 11ms/step\n",
      "THis is [[1.]]\n",
      "1/1 [==============================] - 0s 11ms/step\n",
      "THis is [[1.]]\n",
      "1/1 [==============================] - 0s 12ms/step\n",
      "THis is [[1.]]\n",
      "1/1 [==============================] - 0s 12ms/step\n",
      "THis is [[1.]]\n",
      "1/1 [==============================] - 0s 12ms/step\n",
      "THis is [[1.]]\n",
      "1/1 [==============================] - 0s 12ms/step\n",
      "THis is [[1.]]\n",
      "1/1 [==============================] - 0s 11ms/step\n",
      "THis is [[1.]]\n",
      "1/1 [==============================] - 0s 12ms/step\n",
      "THis is [[1.]]\n"
     ]
    },
    {
     "ename": "KeyboardInterrupt",
     "evalue": "",
     "output_type": "error",
     "traceback": [
      "\u001b[0;31m---------------------------------------------------------------------------\u001b[0m",
      "\u001b[0;31mKeyboardInterrupt\u001b[0m                         Traceback (most recent call last)",
      "\u001b[1;32m/Users/rohanrichard/Desktop/Code/Computer-Vision/Face-Recogniser/Face-Recogniser/model.ipynb Cell 8\u001b[0m in \u001b[0;36m<cell line: 4>\u001b[0;34m()\u001b[0m\n\u001b[1;32m      <a href='vscode-notebook-cell:/Users/rohanrichard/Desktop/Code/Computer-Vision/Face-Recogniser/Face-Recogniser/model.ipynb#W6sZmlsZQ%3D%3D?line=2'>3</a>\u001b[0m \u001b[39mwhile\u001b[39;00m(\u001b[39mTrue\u001b[39;00m):\n\u001b[1;32m      <a href='vscode-notebook-cell:/Users/rohanrichard/Desktop/Code/Computer-Vision/Face-Recogniser/Face-Recogniser/model.ipynb#W6sZmlsZQ%3D%3D?line=3'>4</a>\u001b[0m     status, frame \u001b[39m=\u001b[39m vid\u001b[39m.\u001b[39mread()\n\u001b[0;32m----> <a href='vscode-notebook-cell:/Users/rohanrichard/Desktop/Code/Computer-Vision/Face-Recogniser/Face-Recogniser/model.ipynb#W6sZmlsZQ%3D%3D?line=4'>5</a>\u001b[0m     cv2\u001b[39m.\u001b[39;49mimwrite(\u001b[39m'\u001b[39;49m\u001b[39m/Users/rohanrichard/Desktop/Code/Computer-Vision/Face-Recogniser/Face-Recogniser/temp.png\u001b[39;49m\u001b[39m'\u001b[39;49m,frame)\n\u001b[1;32m      <a href='vscode-notebook-cell:/Users/rohanrichard/Desktop/Code/Computer-Vision/Face-Recogniser/Face-Recogniser/model.ipynb#W6sZmlsZQ%3D%3D?line=5'>6</a>\u001b[0m     img \u001b[39m=\u001b[39m keras\u001b[39m.\u001b[39mutils\u001b[39m.\u001b[39mload_img(\u001b[39m'\u001b[39m\u001b[39m/Users/rohanrichard/Desktop/Code/Computer-Vision/Face-Recogniser/Face-Recogniser/temp.png\u001b[39m\u001b[39m'\u001b[39m, target_size\u001b[39m=\u001b[39m(\u001b[39m200\u001b[39m,\u001b[39m200\u001b[39m))\n\u001b[1;32m      <a href='vscode-notebook-cell:/Users/rohanrichard/Desktop/Code/Computer-Vision/Face-Recogniser/Face-Recogniser/model.ipynb#W6sZmlsZQ%3D%3D?line=6'>7</a>\u001b[0m     x \u001b[39m=\u001b[39m keras\u001b[39m.\u001b[39mutils\u001b[39m.\u001b[39mimg_to_array(img)\n",
      "\u001b[0;31mKeyboardInterrupt\u001b[0m: "
     ]
    }
   ],
   "source": [
    "vid = cv2.VideoCapture(0)\n",
    "  \n",
    "while(True):\n",
    "    status, frame = vid.read()\n",
    "    cv2.imwrite('/Users/rohanrichard/Desktop/Code/Computer-Vision/Face-Recogniser/Face-Recogniser/temp.png',frame)\n",
    "    img = keras.utils.load_img('/Users/rohanrichard/Desktop/Code/Computer-Vision/Face-Recogniser/Face-Recogniser/temp.png', target_size=(200,200))\n",
    "    x = keras.utils.img_to_array(img)\n",
    "    x = np.expand_dims(x,axis=0)\n",
    "    v = model.predict(x)\n",
    "    print(\"This is\",v)\n",
    "    if v == 0:\n",
    "        s = \"Thumbs Down\"\n",
    "    else:\n",
    "        s = \"Thumbs Up\"\n",
    "        \n",
    "    cv2.putText(frame,s, (0,50), 2, 2, (0,0,255))\n",
    "    cv2.imshow(\"Hey\",frame)\n",
    "    if cv2.waitKey(1) == ord('q'):\n",
    "        break\n",
    "\n",
    "vid.release()\n",
    "cv2.destroyAllWindows()"
   ]
  },
  {
   "cell_type": "code",
   "execution_count": 10,
   "metadata": {},
   "outputs": [],
   "source": [
    "\n",
    "vid.release()\n",
    "cv2.destroyAllWindows()"
   ]
  },
  {
   "cell_type": "code",
   "execution_count": null,
   "metadata": {},
   "outputs": [],
   "source": []
  },
  {
   "cell_type": "code",
   "execution_count": null,
   "metadata": {},
   "outputs": [],
   "source": []
  }
 ],
 "metadata": {
  "kernelspec": {
   "display_name": "Python 3.9.13 ('base')",
   "language": "python",
   "name": "python3"
  },
  "language_info": {
   "codemirror_mode": {
    "name": "ipython",
    "version": 3
   },
   "file_extension": ".py",
   "mimetype": "text/x-python",
   "name": "python",
   "nbconvert_exporter": "python",
   "pygments_lexer": "ipython3",
   "version": "3.9.13"
  },
  "orig_nbformat": 4,
  "vscode": {
   "interpreter": {
    "hash": "97cc05362d029fc8a5c1ee970a90be82aec4816b0a36d5f84ccf802a91fa5544"
   }
  }
 },
 "nbformat": 4,
 "nbformat_minor": 2
}
