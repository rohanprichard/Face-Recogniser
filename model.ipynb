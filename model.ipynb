{
 "cells": [
  {
   "cell_type": "code",
   "execution_count": 1,
   "metadata": {},
   "outputs": [],
   "source": [
    "import tensorflow as tf\n",
    "import scipy\n",
    "import matplotlib.pyplot as plt\n",
    "import numpy as np\n",
    "import cv2\n",
    "import os\n",
    "from tensorflow import keras\n",
    "from keras.preprocessing import image\n",
    "from keras.preprocessing.image import ImageDataGenerator\n",
    "from keras.optimizers import RMSprop"
   ]
  },
  {
   "cell_type": "code",
   "execution_count": 8,
   "metadata": {},
   "outputs": [],
   "source": [
    "train = ImageDataGenerator(rescale=1/255)\n",
    "val = ImageDataGenerator(rescale=1/255)"
   ]
  },
  {
   "cell_type": "code",
   "execution_count": 9,
   "metadata": {},
   "outputs": [
    {
     "name": "stdout",
     "output_type": "stream",
     "text": [
      "Found 1200 images belonging to 2 classes.\n",
      "Found 240 images belonging to 2 classes.\n"
     ]
    }
   ],
   "source": [
    "train_data = train.flow_from_directory('/Users/rohanrichard/Desktop/Code/Computer-Vision/Face-Recogniser/Face-Recogniser/train', batch_size=128,class_mode='binary', target_size=(200,200))\n",
    "val_data = val.flow_from_directory('/Users/rohanrichard/Desktop/Code/Computer-Vision/Face-Recogniser/Face-Recogniser/val',batch_size=10,class_mode='binary', target_size=(200,200) )"
   ]
  },
  {
   "cell_type": "code",
   "execution_count": 10,
   "metadata": {},
   "outputs": [
    {
     "data": {
      "text/plain": [
       "{'ThumbsDown': 0, 'ThumbsUp': 1}"
      ]
     },
     "execution_count": 10,
     "metadata": {},
     "output_type": "execute_result"
    }
   ],
   "source": [
    "train_data.class_indices"
   ]
  },
  {
   "cell_type": "code",
   "execution_count": 11,
   "metadata": {},
   "outputs": [
    {
     "data": {
      "text/plain": [
       "(200, 200, 3)"
      ]
     },
     "execution_count": 11,
     "metadata": {},
     "output_type": "execute_result"
    }
   ],
   "source": [
    "train_data.image_shape"
   ]
  },
  {
   "cell_type": "code",
   "execution_count": 12,
   "metadata": {},
   "outputs": [],
   "source": [
    "model = keras.models.Sequential([\n",
    "    keras.layers.Conv2D(16,(3,3),activation='relu',input_shape=(200,200,3)),\n",
    "    keras.layers.MaxPool2D(2,2),\n",
    "    keras.layers.Conv2D(32,(3,3),activation='relu'),\n",
    "    keras.layers.MaxPool2D(2,2),\n",
    "    keras.layers.Conv2D(64,(3,3),activation='relu'),\n",
    "    keras.layers.MaxPool2D(2,2),\n",
    "    keras.layers.Flatten(),\n",
    "    keras.layers.Dense(512,activation='relu'),\n",
    "    keras.layers.Dense(1,activation='sigmoid')\n",
    "])\n",
    "model.compile(loss='binary_crossentropy', optimizer = RMSprop(learning_rate=0.005), metrics=['accuracy'])"
   ]
  },
  {
   "cell_type": "code",
   "execution_count": 14,
   "metadata": {},
   "outputs": [
    {
     "name": "stdout",
     "output_type": "stream",
     "text": [
      "Epoch 1/20\n",
      "10/10 [==============================] - 2s 176ms/step - loss: 0.6863 - accuracy: 0.5733 - val_loss: 0.6844 - val_accuracy: 0.5000\n",
      "Epoch 2/20\n",
      "10/10 [==============================] - 2s 169ms/step - loss: 1.7979 - accuracy: 0.4933 - val_loss: 0.4955 - val_accuracy: 0.8333\n",
      "Epoch 3/20\n",
      "10/10 [==============================] - 2s 165ms/step - loss: 2.4525 - accuracy: 0.6092 - val_loss: 0.6845 - val_accuracy: 0.6208\n",
      "Epoch 4/20\n",
      "10/10 [==============================] - 2s 169ms/step - loss: 0.7800 - accuracy: 0.7325 - val_loss: 0.2913 - val_accuracy: 0.8583\n",
      "Epoch 5/20\n",
      "10/10 [==============================] - 2s 169ms/step - loss: 0.1792 - accuracy: 0.9367 - val_loss: 0.0394 - val_accuracy: 1.0000\n",
      "Epoch 6/20\n",
      "10/10 [==============================] - 2s 170ms/step - loss: 0.0047 - accuracy: 1.0000 - val_loss: 0.0179 - val_accuracy: 1.0000\n",
      "Epoch 7/20\n",
      "10/10 [==============================] - 2s 168ms/step - loss: 2.9109e-04 - accuracy: 1.0000 - val_loss: 0.0120 - val_accuracy: 1.0000\n",
      "Epoch 8/20\n",
      "10/10 [==============================] - 2s 163ms/step - loss: 9.4628e-05 - accuracy: 1.0000 - val_loss: 0.0097 - val_accuracy: 1.0000\n",
      "Epoch 9/20\n",
      "10/10 [==============================] - 2s 177ms/step - loss: 3.3450e-05 - accuracy: 1.0000 - val_loss: 0.0067 - val_accuracy: 1.0000\n",
      "Epoch 10/20\n",
      "10/10 [==============================] - 2s 165ms/step - loss: 1.0736e-05 - accuracy: 1.0000 - val_loss: 0.0055 - val_accuracy: 1.0000\n",
      "Epoch 11/20\n",
      "10/10 [==============================] - 2s 178ms/step - loss: 2.8350e-06 - accuracy: 1.0000 - val_loss: 0.0046 - val_accuracy: 1.0000\n",
      "Epoch 12/20\n",
      "10/10 [==============================] - 2s 168ms/step - loss: 1.1172e-06 - accuracy: 1.0000 - val_loss: 0.0035 - val_accuracy: 1.0000\n",
      "Epoch 13/20\n",
      "10/10 [==============================] - 2s 168ms/step - loss: 5.5307e-07 - accuracy: 1.0000 - val_loss: 0.0031 - val_accuracy: 1.0000\n",
      "Epoch 14/20\n",
      "10/10 [==============================] - 2s 184ms/step - loss: 2.6882e-07 - accuracy: 1.0000 - val_loss: 0.0030 - val_accuracy: 1.0000\n",
      "Epoch 15/20\n",
      "10/10 [==============================] - 2s 172ms/step - loss: 1.5087e-07 - accuracy: 1.0000 - val_loss: 0.0031 - val_accuracy: 1.0000\n",
      "Epoch 16/20\n",
      "10/10 [==============================] - 2s 170ms/step - loss: 8.9515e-08 - accuracy: 1.0000 - val_loss: 0.0032 - val_accuracy: 1.0000\n",
      "Epoch 17/20\n",
      "10/10 [==============================] - 2s 171ms/step - loss: 5.2332e-08 - accuracy: 1.0000 - val_loss: 0.0031 - val_accuracy: 1.0000\n",
      "Epoch 18/20\n",
      "10/10 [==============================] - 2s 166ms/step - loss: 3.2019e-08 - accuracy: 1.0000 - val_loss: 0.0032 - val_accuracy: 1.0000\n",
      "Epoch 19/20\n",
      "10/10 [==============================] - 2s 168ms/step - loss: 1.9556e-08 - accuracy: 1.0000 - val_loss: 0.0032 - val_accuracy: 1.0000\n",
      "Epoch 20/20\n",
      "10/10 [==============================] - 2s 177ms/step - loss: 1.3703e-08 - accuracy: 1.0000 - val_loss: 0.0032 - val_accuracy: 1.0000\n"
     ]
    },
    {
     "data": {
      "text/plain": [
       "<keras.callbacks.History at 0x2bbd357f0>"
      ]
     },
     "execution_count": 14,
     "metadata": {},
     "output_type": "execute_result"
    }
   ],
   "source": [
    "model.fit(train_data,steps_per_epoch=10, epochs=20,validation_data=val_data)"
   ]
  },
  {
   "cell_type": "code",
   "execution_count": 19,
   "metadata": {},
   "outputs": [
    {
     "name": "stdout",
     "output_type": "stream",
     "text": [
      "1/1 [==============================] - 0s 17ms/step\n",
      "This is Thumbs Up [[1.]]\n",
      "1/1 [==============================] - 0s 12ms/step\n",
      "This is Thumbs Down [[0.]]\n",
      "1/1 [==============================] - 0s 14ms/step\n",
      "This is Thumbs Down [[0.]]\n",
      "1/1 [==============================] - 0s 11ms/step\n",
      "This is Thumbs Down [[0.]]\n",
      "1/1 [==============================] - 0s 11ms/step\n",
      "This is Thumbs Down [[0.]]\n",
      "1/1 [==============================] - 0s 12ms/step\n",
      "This is Thumbs Down [[0.]]\n",
      "1/1 [==============================] - 0s 11ms/step\n",
      "This is Thumbs Down [[0.]]\n",
      "1/1 [==============================] - 0s 10ms/step\n",
      "This is Thumbs Down [[0.]]\n",
      "1/1 [==============================] - 0s 10ms/step\n",
      "This is Thumbs Down [[0.]]\n",
      "1/1 [==============================] - 0s 11ms/step\n",
      "This is Thumbs Down [[0.]]\n",
      "1/1 [==============================] - 0s 11ms/step\n",
      "This is Thumbs Down [[0.]]\n",
      "1/1 [==============================] - 0s 11ms/step\n",
      "This is Thumbs Down [[0.]]\n",
      "1/1 [==============================] - 0s 11ms/step\n",
      "This is Thumbs Down [[0.]]\n",
      "1/1 [==============================] - 0s 11ms/step\n",
      "This is Thumbs Up [[1.]]\n",
      "1/1 [==============================] - 0s 10ms/step\n",
      "This is Thumbs Up [[1.]]\n",
      "1/1 [==============================] - 0s 10ms/step\n",
      "This is Thumbs Up [[1.]]\n",
      "1/1 [==============================] - 0s 10ms/step\n",
      "This is Thumbs Up [[1.]]\n",
      "1/1 [==============================] - 0s 10ms/step\n",
      "This is Thumbs Up [[1.]]\n",
      "1/1 [==============================] - 0s 10ms/step\n",
      "This is Thumbs Up [[1.]]\n",
      "1/1 [==============================] - 0s 11ms/step\n",
      "This is Thumbs Up [[1.]]\n",
      "1/1 [==============================] - 0s 11ms/step\n",
      "This is Thumbs Down [[0.]]\n",
      "1/1 [==============================] - 0s 11ms/step\n",
      "This is Thumbs Up [[1.]]\n",
      "1/1 [==============================] - 0s 11ms/step\n",
      "This is Thumbs Up [[1.]]\n",
      "1/1 [==============================] - 0s 11ms/step\n",
      "This is Thumbs Up [[1.]]\n",
      "1/1 [==============================] - 0s 10ms/step\n",
      "This is Thumbs Up [[1.]]\n",
      "1/1 [==============================] - 0s 10ms/step\n",
      "This is Thumbs Up [[4.5765676e-09]]\n",
      "1/1 [==============================] - 0s 10ms/step\n",
      "This is Thumbs Down [[0.]]\n",
      "1/1 [==============================] - 0s 11ms/step\n",
      "This is Thumbs Down [[0.]]\n",
      "1/1 [==============================] - 0s 10ms/step\n",
      "This is Thumbs Down [[0.]]\n",
      "1/1 [==============================] - 0s 10ms/step\n",
      "This is Thumbs Down [[0.]]\n",
      "1/1 [==============================] - 0s 11ms/step\n",
      "This is Thumbs Down [[0.]]\n",
      "1/1 [==============================] - 0s 11ms/step\n",
      "This is Thumbs Down [[0.]]\n",
      "1/1 [==============================] - 0s 10ms/step\n",
      "This is Thumbs Down [[0.]]\n",
      "1/1 [==============================] - 0s 10ms/step\n",
      "This is Thumbs Down [[0.]]\n",
      "1/1 [==============================] - 0s 11ms/step\n",
      "This is Thumbs Down [[0.]]\n",
      "1/1 [==============================] - 0s 11ms/step\n",
      "This is Thumbs Up [[1.]]\n",
      "1/1 [==============================] - 0s 11ms/step\n",
      "This is Thumbs Up [[2.7448084e-06]]\n",
      "1/1 [==============================] - 0s 10ms/step\n",
      "This is Thumbs Down [[0.]]\n",
      "1/1 [==============================] - 0s 11ms/step\n",
      "This is Thumbs Up [[1.]]\n",
      "1/1 [==============================] - 0s 10ms/step\n",
      "This is Thumbs Up [[1.]]\n",
      "1/1 [==============================] - 0s 10ms/step\n",
      "This is Thumbs Up [[1.]]\n",
      "1/1 [==============================] - 0s 11ms/step\n",
      "This is Thumbs Up [[1.]]\n",
      "1/1 [==============================] - 0s 11ms/step\n",
      "This is Thumbs Up [[1.]]\n",
      "1/1 [==============================] - 0s 10ms/step\n",
      "This is Thumbs Up [[1.]]\n",
      "1/1 [==============================] - 0s 10ms/step\n",
      "This is Thumbs Up [[1.]]\n",
      "1/1 [==============================] - 0s 11ms/step\n",
      "This is Thumbs Up [[1.]]\n",
      "1/1 [==============================] - 0s 10ms/step\n",
      "This is Thumbs Up [[1.]]\n",
      "1/1 [==============================] - 0s 10ms/step\n",
      "This is Thumbs Down [[0.]]\n",
      "1/1 [==============================] - 0s 10ms/step\n",
      "This is Thumbs Down [[0.]]\n",
      "1/1 [==============================] - 0s 11ms/step\n",
      "This is Thumbs Down [[0.]]\n",
      "1/1 [==============================] - 0s 11ms/step\n",
      "This is Thumbs Down [[0.]]\n",
      "1/1 [==============================] - 0s 10ms/step\n",
      "This is Thumbs Down [[0.]]\n",
      "1/1 [==============================] - 0s 11ms/step\n",
      "This is Thumbs Down [[0.]]\n",
      "1/1 [==============================] - 0s 10ms/step\n",
      "This is Thumbs Down [[0.]]\n",
      "1/1 [==============================] - 0s 11ms/step\n",
      "This is Thumbs Down [[0.]]\n",
      "1/1 [==============================] - 0s 11ms/step\n",
      "This is Thumbs Down [[0.]]\n",
      "1/1 [==============================] - 0s 11ms/step\n",
      "This is Thumbs Down [[0.]]\n",
      "1/1 [==============================] - 0s 11ms/step\n",
      "This is Thumbs Down [[0.]]\n",
      "1/1 [==============================] - 0s 10ms/step\n",
      "This is Thumbs Down [[0.]]\n",
      "1/1 [==============================] - 0s 11ms/step\n",
      "This is Thumbs Down [[0.]]\n",
      "1/1 [==============================] - 0s 11ms/step\n",
      "This is Thumbs Up [[1.]]\n",
      "1/1 [==============================] - 0s 10ms/step\n",
      "This is Thumbs Up [[1.]]\n",
      "1/1 [==============================] - 0s 10ms/step\n",
      "This is Thumbs Up [[1.]]\n",
      "1/1 [==============================] - 0s 10ms/step\n",
      "This is Thumbs Up [[1.]]\n",
      "1/1 [==============================] - 0s 10ms/step\n",
      "This is Thumbs Up [[1.]]\n",
      "1/1 [==============================] - 0s 10ms/step\n",
      "This is Thumbs Up [[1.]]\n",
      "1/1 [==============================] - 0s 11ms/step\n",
      "This is Thumbs Up [[0.7077482]]\n",
      "1/1 [==============================] - 0s 10ms/step\n",
      "This is Thumbs Up [[1.4803282e-13]]\n",
      "1/1 [==============================] - 0s 11ms/step\n",
      "This is Thumbs Up [[1.]]\n",
      "1/1 [==============================] - 0s 10ms/step\n",
      "This is Thumbs Up [[1.]]\n",
      "1/1 [==============================] - 0s 11ms/step\n",
      "This is Thumbs Down [[0.]]\n",
      "1/1 [==============================] - 0s 10ms/step\n",
      "This is Thumbs Up [[0.99999976]]\n",
      "1/1 [==============================] - 0s 11ms/step\n",
      "This is Thumbs Down [[0.]]\n",
      "1/1 [==============================] - 0s 11ms/step\n",
      "This is Thumbs Down [[0.]]\n",
      "1/1 [==============================] - 0s 11ms/step\n",
      "This is Thumbs Down [[0.]]\n",
      "1/1 [==============================] - 0s 11ms/step\n",
      "This is Thumbs Down [[0.]]\n",
      "1/1 [==============================] - 0s 10ms/step\n",
      "This is Thumbs Down [[0.]]\n"
     ]
    }
   ],
   "source": [
    "vid = cv2.VideoCapture(0)\n",
    "  \n",
    "while(True):\n",
    "    status, frame = vid.read()\n",
    "    cv2.imwrite('/Users/rohanrichard/Desktop/Code/Computer-Vision/Face-Recogniser/Face-Recogniser/temp.png',frame)\n",
    "    img = keras.utils.load_img('/Users/rohanrichard/Desktop/Code/Computer-Vision/Face-Recogniser/Face-Recogniser/temp.png', target_size=(200,200))\n",
    "    x = keras.utils.img_to_array(img)\n",
    "    x = np.expand_dims(x,axis=0)\n",
    "\n",
    "    v = model.predict(x)\n",
    "    if v == 0:\n",
    "        s = \"Thumbs Down\"\n",
    "    else:\n",
    "        s = \"Thumbs Up\"\n",
    "    \n",
    "    print(\"This is\",s,v)\n",
    "        \n",
    "    cv2.putText(frame,s, (0,50), 2, 2, (0,0,255))\n",
    "    cv2.imshow(\"Hey\",frame)\n",
    "    if cv2.waitKey(1) == ord('q'):\n",
    "        break\n",
    "\n",
    "vid.release()\n",
    "cv2.destroyAllWindows()"
   ]
  },
  {
   "cell_type": "code",
   "execution_count": 8,
   "metadata": {},
   "outputs": [
    {
     "ename": "",
     "evalue": "",
     "output_type": "error",
     "traceback": [
      "\u001b[1;31mThe Kernel crashed while executing code in the the current cell or a previous cell. Please review the code in the cell(s) to identify a possible cause of the failure. Click <a href='https://aka.ms/vscodeJupyterKernelCrash'>here</a> for more info. View Jupyter <a href='command:jupyter.viewOutput'>log</a> for further details."
     ]
    }
   ],
   "source": [
    "vid.release()\n",
    "cv2.destroyAllWindows()"
   ]
  },
  {
   "cell_type": "code",
   "execution_count": 17,
   "metadata": {},
   "outputs": [],
   "source": [
    "model.save_weights('/Users/rohanrichard/Desktop/Code/Computer-Vision/Face-Recogniser/Face-Recogniser/goodweights1')"
   ]
  },
  {
   "cell_type": "code",
   "execution_count": 18,
   "metadata": {},
   "outputs": [
    {
     "data": {
      "text/plain": [
       "<tensorflow.python.training.tracking.util.CheckpointLoadStatus at 0x2e4ac8730>"
      ]
     },
     "execution_count": 18,
     "metadata": {},
     "output_type": "execute_result"
    }
   ],
   "source": [
    "model.load_weights('/Users/rohanrichard/Desktop/Code/Computer-Vision/Face-Recogniser/Face-Recogniser/goodweights1')\n"
   ]
  }
 ],
 "metadata": {
  "kernelspec": {
   "display_name": "Python 3.9.13 ('base')",
   "language": "python",
   "name": "python3"
  },
  "language_info": {
   "codemirror_mode": {
    "name": "ipython",
    "version": 3
   },
   "file_extension": ".py",
   "mimetype": "text/x-python",
   "name": "python",
   "nbconvert_exporter": "python",
   "pygments_lexer": "ipython3",
   "version": "3.9.13"
  },
  "orig_nbformat": 4,
  "vscode": {
   "interpreter": {
    "hash": "97cc05362d029fc8a5c1ee970a90be82aec4816b0a36d5f84ccf802a91fa5544"
   }
  }
 },
 "nbformat": 4,
 "nbformat_minor": 2
}
